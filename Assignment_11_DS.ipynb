{
 "cells": [
  {
   "cell_type": "markdown",
   "id": "115c79d5",
   "metadata": {},
   "source": [
    "# Assignment 11 Solution"
   ]
  },
  {
   "cell_type": "raw",
   "id": "1ddf50df",
   "metadata": {},
   "source": [
    "Q.1. Create an assert statement that throws an AssertionError if the variable spam is a negative integer.\n",
    "\n",
    "Ans:"
   ]
  },
  {
   "cell_type": "code",
   "execution_count": 2,
   "id": "bd35459a",
   "metadata": {},
   "outputs": [
    {
     "ename": "AssertionError",
     "evalue": "Variable Spam should not be a -ve number",
     "output_type": "error",
     "traceback": [
      "\u001b[1;31m---------------------------------------------------------------------------\u001b[0m",
      "\u001b[1;31mAssertionError\u001b[0m                            Traceback (most recent call last)",
      "Input \u001b[1;32mIn [2]\u001b[0m, in \u001b[0;36m<cell line: 2>\u001b[1;34m()\u001b[0m\n\u001b[0;32m      1\u001b[0m spam \u001b[38;5;241m=\u001b[39m \u001b[38;5;241m-\u001b[39m\u001b[38;5;241m22\u001b[39m\n\u001b[1;32m----> 2\u001b[0m \u001b[38;5;28;01massert\u001b[39;00m spam \u001b[38;5;241m>\u001b[39m\u001b[38;5;241m=\u001b[39m\u001b[38;5;241m0\u001b[39m, \u001b[38;5;124m'\u001b[39m\u001b[38;5;124mVariable Spam should not be a -ve number\u001b[39m\u001b[38;5;124m'\u001b[39m\n",
      "\u001b[1;31mAssertionError\u001b[0m: Variable Spam should not be a -ve number"
     ]
    }
   ],
   "source": [
    "spam = -22\n",
    "assert spam >=0, 'Variable Spam should not be a -ve number'\n"
   ]
  },
  {
   "cell_type": "code",
   "execution_count": 3,
   "id": "b41349eb",
   "metadata": {},
   "outputs": [
    {
     "ename": "AssertionError",
     "evalue": "Error: spam is a negative integer",
     "output_type": "error",
     "traceback": [
      "\u001b[1;31m---------------------------------------------------------------------------\u001b[0m",
      "\u001b[1;31mAssertionError\u001b[0m                            Traceback (most recent call last)",
      "Input \u001b[1;32mIn [3]\u001b[0m, in \u001b[0;36m<cell line: 1>\u001b[1;34m()\u001b[0m\n\u001b[1;32m----> 1\u001b[0m \u001b[38;5;28;01massert\u001b[39;00m spam \u001b[38;5;241m>\u001b[39m\u001b[38;5;241m=\u001b[39m \u001b[38;5;241m0\u001b[39m, \u001b[38;5;124m\"\u001b[39m\u001b[38;5;124mError: spam is a negative integer\u001b[39m\u001b[38;5;124m\"\u001b[39m\n",
      "\u001b[1;31mAssertionError\u001b[0m: Error: spam is a negative integer"
     ]
    }
   ],
   "source": [
    "assert spam >= 0, \"Error: spam is a negative integer\"\n"
   ]
  },
  {
   "cell_type": "raw",
   "id": "b111345c",
   "metadata": {},
   "source": [
    "Q.2. Write an assert statement that triggers an AssertionError if the variables eggs and bacon        contain strings that are the same as each other, even if their cases are different (that is,      'hello' and 'hello' are considered the same, and 'goodbye' and 'GOODbye' are also considered      the same).\n",
    "\n",
    "Ans:"
   ]
  },
  {
   "cell_type": "code",
   "execution_count": 4,
   "id": "75e4a52b",
   "metadata": {},
   "outputs": [],
   "source": [
    "def raise_assert(egg,bacon):\n",
    "    egg = egg.upper()\n",
    "    bacon = bacon.upper()\n",
    "    assert not(egg == bacon), 'Eggs/Bacon should not be same, which are same now'"
   ]
  },
  {
   "cell_type": "code",
   "execution_count": 5,
   "id": "c6c483c1",
   "metadata": {},
   "outputs": [
    {
     "ename": "AssertionError",
     "evalue": "Eggs/Bacon should not be same, which are same now",
     "output_type": "error",
     "traceback": [
      "\u001b[1;31m---------------------------------------------------------------------------\u001b[0m",
      "\u001b[1;31mAssertionError\u001b[0m                            Traceback (most recent call last)",
      "Input \u001b[1;32mIn [5]\u001b[0m, in \u001b[0;36m<cell line: 1>\u001b[1;34m()\u001b[0m\n\u001b[1;32m----> 1\u001b[0m \u001b[43mraise_assert\u001b[49m\u001b[43m(\u001b[49m\u001b[38;5;124;43m'\u001b[39;49m\u001b[38;5;124;43mhello\u001b[39;49m\u001b[38;5;124;43m'\u001b[39;49m\u001b[43m,\u001b[49m\u001b[38;5;124;43m'\u001b[39;49m\u001b[38;5;124;43mHELLO\u001b[39;49m\u001b[38;5;124;43m'\u001b[39;49m\u001b[43m)\u001b[49m\n",
      "Input \u001b[1;32mIn [4]\u001b[0m, in \u001b[0;36mraise_assert\u001b[1;34m(egg, bacon)\u001b[0m\n\u001b[0;32m      2\u001b[0m egg \u001b[38;5;241m=\u001b[39m egg\u001b[38;5;241m.\u001b[39mupper()\n\u001b[0;32m      3\u001b[0m bacon \u001b[38;5;241m=\u001b[39m bacon\u001b[38;5;241m.\u001b[39mupper()\n\u001b[1;32m----> 4\u001b[0m \u001b[38;5;28;01massert\u001b[39;00m \u001b[38;5;129;01mnot\u001b[39;00m(egg \u001b[38;5;241m==\u001b[39m bacon), \u001b[38;5;124m'\u001b[39m\u001b[38;5;124mEggs/Bacon should not be same, which are same now\u001b[39m\u001b[38;5;124m'\u001b[39m\n",
      "\u001b[1;31mAssertionError\u001b[0m: Eggs/Bacon should not be same, which are same now"
     ]
    }
   ],
   "source": [
    "raise_assert('hello','HELLO')"
   ]
  },
  {
   "cell_type": "code",
   "execution_count": 6,
   "id": "493b9d01",
   "metadata": {},
   "outputs": [
    {
     "ename": "AssertionError",
     "evalue": "Eggs/Bacon should not be same, which are same now",
     "output_type": "error",
     "traceback": [
      "\u001b[1;31m---------------------------------------------------------------------------\u001b[0m",
      "\u001b[1;31mAssertionError\u001b[0m                            Traceback (most recent call last)",
      "Input \u001b[1;32mIn [6]\u001b[0m, in \u001b[0;36m<cell line: 1>\u001b[1;34m()\u001b[0m\n\u001b[1;32m----> 1\u001b[0m \u001b[43mraise_assert\u001b[49m\u001b[43m(\u001b[49m\u001b[38;5;124;43m'\u001b[39;49m\u001b[38;5;124;43mgoodbye\u001b[39;49m\u001b[38;5;124;43m'\u001b[39;49m\u001b[43m,\u001b[49m\u001b[38;5;124;43m'\u001b[39;49m\u001b[38;5;124;43mGOODbye\u001b[39;49m\u001b[38;5;124;43m'\u001b[39;49m\u001b[43m)\u001b[49m\n",
      "Input \u001b[1;32mIn [4]\u001b[0m, in \u001b[0;36mraise_assert\u001b[1;34m(egg, bacon)\u001b[0m\n\u001b[0;32m      2\u001b[0m egg \u001b[38;5;241m=\u001b[39m egg\u001b[38;5;241m.\u001b[39mupper()\n\u001b[0;32m      3\u001b[0m bacon \u001b[38;5;241m=\u001b[39m bacon\u001b[38;5;241m.\u001b[39mupper()\n\u001b[1;32m----> 4\u001b[0m \u001b[38;5;28;01massert\u001b[39;00m \u001b[38;5;129;01mnot\u001b[39;00m(egg \u001b[38;5;241m==\u001b[39m bacon), \u001b[38;5;124m'\u001b[39m\u001b[38;5;124mEggs/Bacon should not be same, which are same now\u001b[39m\u001b[38;5;124m'\u001b[39m\n",
      "\u001b[1;31mAssertionError\u001b[0m: Eggs/Bacon should not be same, which are same now"
     ]
    }
   ],
   "source": [
    "raise_assert('goodbye','GOODbye')"
   ]
  },
  {
   "cell_type": "raw",
   "id": "cd640ec3",
   "metadata": {},
   "source": [
    "Q.3. Create an assert statement that throws an AssertionError every time.\n",
    "\n",
    "Ans:"
   ]
  },
  {
   "cell_type": "code",
   "execution_count": 8,
   "id": "064658f9",
   "metadata": {},
   "outputs": [
    {
     "ename": "AssertionError",
     "evalue": "Always Shows Assertion Error",
     "output_type": "error",
     "traceback": [
      "\u001b[1;31m---------------------------------------------------------------------------\u001b[0m",
      "\u001b[1;31mAssertionError\u001b[0m                            Traceback (most recent call last)",
      "Input \u001b[1;32mIn [8]\u001b[0m, in \u001b[0;36m<cell line: 3>\u001b[1;34m()\u001b[0m\n\u001b[0;32m      1\u001b[0m \u001b[38;5;28;01mdef\u001b[39;00m \u001b[38;5;21massert_always\u001b[39m():\n\u001b[0;32m      2\u001b[0m     \u001b[38;5;28;01massert\u001b[39;00m \u001b[38;5;28;01mFalse\u001b[39;00m, \u001b[38;5;124m'\u001b[39m\u001b[38;5;124mAlways Shows Assertion Error\u001b[39m\u001b[38;5;124m'\u001b[39m\n\u001b[1;32m----> 3\u001b[0m \u001b[43massert_always\u001b[49m\u001b[43m(\u001b[49m\u001b[43m)\u001b[49m\n",
      "Input \u001b[1;32mIn [8]\u001b[0m, in \u001b[0;36massert_always\u001b[1;34m()\u001b[0m\n\u001b[0;32m      1\u001b[0m \u001b[38;5;28;01mdef\u001b[39;00m \u001b[38;5;21massert_always\u001b[39m():\n\u001b[1;32m----> 2\u001b[0m     \u001b[38;5;28;01massert\u001b[39;00m \u001b[38;5;28;01mFalse\u001b[39;00m, \u001b[38;5;124m'\u001b[39m\u001b[38;5;124mAlways Shows Assertion Error\u001b[39m\u001b[38;5;124m'\u001b[39m\n",
      "\u001b[1;31mAssertionError\u001b[0m: Always Shows Assertion Error"
     ]
    }
   ],
   "source": [
    "def assert_always():\n",
    "    assert False, 'Always Shows Assertion Error'\n",
    "assert_always()"
   ]
  },
  {
   "cell_type": "raw",
   "id": "e9d4a50c",
   "metadata": {},
   "source": [
    "Q.4. What are the two lines that must be present in your software in order to call                    logging.debug()?\n",
    "\n",
    "Ans: In order to call 'logging.debug()' in your software, the following two lines must be              present:\n",
    "        \n",
    "             import logging\n",
    "     logging.basicConfig(level=logging.DEBUG)\n",
    "     \n",
    "     The first line imports the 'logging module', while the second line configures the logging        system by setting the log level to 'logging.DEBUG', which allows messages with level DEBUG        and above to be logged.\n",
    "     This is the minimal setup that allows you to call 'logging.debug()' and see the debug            message in your console or file.\n",
    "     we may also configure the logger to output the log message to a file or to a specific            handler.\n"
   ]
  },
  {
   "cell_type": "code",
   "execution_count": 9,
   "id": "e850ae53",
   "metadata": {},
   "outputs": [],
   "source": [
    "import logging\n",
    "logging.basicConfig(filename = 'application_log.txt',level=logging.DEBUG, format=' %(asctime)s - %(levelname)s - %(message)s')"
   ]
  },
  {
   "cell_type": "raw",
   "id": "c890caaa",
   "metadata": {},
   "source": [
    "Q.5. What are the two lines that your program must have in order to have logging.debug() send a logging message to a file named programLog.txt?\n",
    "\n",
    "Ans: "
   ]
  },
  {
   "cell_type": "code",
   "execution_count": 11,
   "id": "1d872498",
   "metadata": {},
   "outputs": [],
   "source": [
    "import logging\n",
    "logging.basicConfig(filename = 'application_log.txt',level=logging.DEBUG, format=' %(asctime)s - %(levelname)s - %(message)s')\n",
    "logging.debug(\"Data Inserted Successfully\")\n",
    "logging.debug('Connection Closed Successfully')"
   ]
  },
  {
   "cell_type": "code",
   "execution_count": 12,
   "id": "1a664e55",
   "metadata": {},
   "outputs": [
    {
     "name": "stdout",
     "output_type": "stream",
     "text": [
      " 2023-01-21 16:24:47,890 - DEBUG - Data Inserted Successfully\n",
      "\n",
      " 2023-01-21 16:24:47,890 - DEBUG - Connection Closed Successfully\n",
      "\n"
     ]
    }
   ],
   "source": [
    "file = open(\"./application_log.txt\",\"r\")\n",
    "for record in file.readlines():\n",
    "    print(record)"
   ]
  },
  {
   "cell_type": "raw",
   "id": "0b7cd431",
   "metadata": {},
   "source": [
    "Q.6. What are the five levels of logging?\n",
    "\n",
    "Ans: There are five levels of logging, each representing a different level of severity:\n",
    "\n",
    "     1. DEBUG: Detailed information, typically of interest only when diagnosing problems.\n",
    "     \n",
    "     2. INFO: Confirmation that things are working as expected.\n",
    "     \n",
    "     3. WARNING: An indication that something unexpected happened or indicative of some problem           in the near future (e.g. ‘disk space low’). The software is still working as expected.\n",
    "     \n",
    "     4. ERROR: Due to a more serious problem, the software has not been able to perform some             function.\n",
    "     \n",
    "     5. CRITICAL: A serious error, indicating that the program itself may be unable to continue           running.\n",
    "     \n",
    "     The logging module uses these levels to determine which messages to actually log. By              default, messages at the 'DEBUG' level and above will be logged. You can configure the            logging level to only log messages of a certain level or higher, allowing you to filter out      less important messages.\n",
    "\n",
    "\n"
   ]
  },
  {
   "cell_type": "raw",
   "id": "685231f9",
   "metadata": {},
   "source": [
    "Q.7. What line of code would you add to your software to disable all logging messages?\n",
    "\n",
    "Ans: logging.disable = True"
   ]
  },
  {
   "cell_type": "code",
   "execution_count": 13,
   "id": "84f22f71",
   "metadata": {},
   "outputs": [],
   "source": [
    "logging.disable = True"
   ]
  },
  {
   "cell_type": "raw",
   "id": "304f6232",
   "metadata": {},
   "source": [
    "Q.8. Why is using logging messages better than using print() to display the same message?\n",
    "\n",
    "Ans: Using logging messages is generally considered better than using print() to display the same      message for several reasons:\n",
    "\n",
    "     1. Logging can be configured to output to a file or specific handler: Logging messages can           be configured to output to a file or to a specific handler such as syslog, remote server,         email, etc. This allows you to separate the log messages from the output of the program,         making it easier to analyze and troubleshoot issues.\n",
    "\n",
    "     2. Logging can be filtered by level: Logging messages can be filtered by level, such as             DEBUG, INFO, WARNING, ERROR, and CRITICAL. This allows you to control the amount of               information that is logged, making it easier to focus on the most important messages.\n",
    "\n",
    "     3. Logging can be turned off: Logging can be turned off entirely or set to a higher level           such as ERROR or CRITICAL for production environment, so you can reduce the amount of             noise in your logs, and prevent sensitive information to be exposed.\n",
    "\n",
    "     4. Logging can be structured: Logging messages can include structured data such as key-value         pairs, this allows you to add more context to your log messages and make them more               informative and easier to search and analyze.\n",
    "\n",
    "     5. Logging is more readable and consistent: Logging messages are typically more consistent           and easy to read than print statements, as they include a timestamp, severity level, and         often the name of the logger that generated the message. This makes it easier to                 understand the context and intent of the message.\n",
    "\n",
    "     Using print() statement is a quick and easy way to display messages, but it's not                recommended for production-level software as it lacks the flexibility and robustness of          logging.\n",
    "\n",
    "\n",
    "\n"
   ]
  },
  {
   "cell_type": "raw",
   "id": "7c3e462c",
   "metadata": {},
   "source": [
    "Q.9. What are the differences between the Step Over, Step In, and Step Out buttons in the debugger?\n",
    "\n",
    "Ans: The \"Step Over\", \"Step In\", and \"Step Out\" buttons in a debugger are used to control the          execution flow of a program as it is being debugged. They allow you to step through the code      line by line, examining the values of variables and the state of the program at each step.\n",
    "\n",
    "    1. Step Over: Step Over allows you to execute the current line of code and move to the next          line without entering any function calls. If the current line contains a function call,          the debugger will execute the function and move to the next line of code without entering        the function.\n",
    "\n",
    "    2. Step In: Step In allows you to enter a function call and execute one line of code at a            time. It will move the execution point inside the function and the debugger will stop at          the first line of the function.\n",
    "\n",
    "    3. Step Out: Step Out allows you to exit a function that was entered by using \"Step In\" and          return to the point where the function was called. It will execute the remaining lines of t      he function and stop at the point where the function returns to the calling code.\n",
    "\n",
    "     These three buttons allow you to navigate through the code, one line at a time, and examine      the state of the program as it is executed. The Step Over and Step In buttons allow you to        examine the inner workings of the code, while the Step Out button allows you to quickly move      past code that you are not currently interested in.\n",
    "\n",
    "\n",
    "\n"
   ]
  },
  {
   "cell_type": "raw",
   "id": "9e73d918",
   "metadata": {},
   "source": [
    "Q.10. After you click Continue, when will the debugger stop ?\n",
    "\n",
    "Ans:  The debugger will stop when it reaches a breakpoint or when the execution of the program is       completed. If a breakpoint is not set, the debugger will not stop until the execution is         completed."
   ]
  },
  {
   "cell_type": "raw",
   "id": "f7f456cf",
   "metadata": {},
   "source": [
    "Q.11. What is the concept of a breakpoint?\n",
    "\n",
    "Ans:  A breakpoint is a point in the code at which the execution of a program will stop                 temporarily, so that the developer can inspect the current state of the program and               understand what's happening. It allows developer to pause the program execution at a             specific point, inspect and change the state of the program, and then continue execution         from that point.\n",
    "      Breakpoints are typically set in a development environment using a debugger tool, and can         be set on a specific line of code or at the location of a specific function call.\n",
    "      Once the program execution reaches a breakpoint, the developer can step through the code,         examine variable values, and make changes to the program if necessary, before continuing         execution."
   ]
  },
  {
   "cell_type": "code",
   "execution_count": null,
   "id": "b2378ae3",
   "metadata": {},
   "outputs": [],
   "source": []
  }
 ],
 "metadata": {
  "kernelspec": {
   "display_name": "Python 3 (ipykernel)",
   "language": "python",
   "name": "python3"
  },
  "language_info": {
   "codemirror_mode": {
    "name": "ipython",
    "version": 3
   },
   "file_extension": ".py",
   "mimetype": "text/x-python",
   "name": "python",
   "nbconvert_exporter": "python",
   "pygments_lexer": "ipython3",
   "version": "3.9.12"
  }
 },
 "nbformat": 4,
 "nbformat_minor": 5
}
